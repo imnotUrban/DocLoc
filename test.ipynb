{
 "cells": [
  {
   "cell_type": "code",
   "execution_count": 1,
   "metadata": {},
   "outputs": [],
   "source": [
    "import httpx\n",
    "import random\n",
    "import pandas as pd\n",
    "import time\n",
    "import json"
   ]
  },
  {
   "cell_type": "code",
   "execution_count": 2,
   "metadata": {},
   "outputs": [],
   "source": [
    "csv_file = \"./gpt/noticias-2023-05-31.csv\"\n",
    "data = pd.read_csv(csv_file)"
   ]
  },
  {
   "cell_type": "code",
   "execution_count": 3,
   "metadata": {},
   "outputs": [],
   "source": [
    "TIMEOUT = 300 # Tiempo maximo que esperamos la respuesta de la API (en segundos)"
   ]
  },
  {
   "cell_type": "code",
   "execution_count": 4,
   "metadata": {},
   "outputs": [],
   "source": [
    "# Auxiliares\n",
    "def tiempo_de_ejecucion(inicio):\n",
    "    fin = time.time()\n",
    "    tiempo_ejecucion = fin - inicio\n",
    "    print(f\"Tiempo de ejecución: {tiempo_ejecucion} segundos\")\n",
    "\n",
    "def print_resultados(data):\n",
    "    for doc in data:\n",
    "        print(f\"Location: {doc['location']}, ({doc['lat']}, {doc['lng']})\")"
   ]
  },
  {
   "cell_type": "code",
   "execution_count": 19,
   "metadata": {},
   "outputs": [],
   "source": [
    "docs = [] # lista para guardar los documentos obtenidos del csv, en formato JSON\n",
    "n_noticias = 1\n",
    "csv_size = data.shape[0]\n",
    "#Toma noticias random de un csv\n",
    "for i in range(n_noticias):\n",
    "    top = csv_size - i\n",
    "    random_index = random.randint(0, top)\n",
    "    new = data.iloc[random_index]\n",
    "    doc = {\n",
    "        \"id\": random_index,\n",
    "        \"title\": new[\"title\"],\n",
    "        \"date\": new[\"date\"],\n",
    "        \"text\": new[\"text\"],\n",
    "        \"url\": new[\"url\"]\n",
    "    }\n",
    "    docs.append(doc)"
   ]
  },
  {
   "cell_type": "code",
   "execution_count": 20,
   "metadata": {},
   "outputs": [
    {
     "name": "stdout",
     "output_type": "stream",
     "text": [
      "Fila: 16\t Titulo: Gobierno llega a acuerdo con Grupo México, anuncia...\n"
     ]
    }
   ],
   "source": [
    "for doc in docs:\n",
    "    titulo = str(doc['title'][:50])\n",
    "    print(f\"Fila: {doc['id']}\\t Titulo: {titulo}...\")\n",
    "\n",
    "# Para guardar el doc en un .json\n",
    "with open('doc.json', 'w') as jf: \n",
    "    # n_noticias > 1\n",
    "    json.dump(docs, jf, ensure_ascii=False, indent=4)\n",
    "    # n_noticias = 1\n",
    "    #json.dump(docs[0], jf, ensure_ascii=False, indent=4)"
   ]
  },
  {
   "cell_type": "code",
   "execution_count": 7,
   "metadata": {},
   "outputs": [],
   "source": [
    "# URL de la API\n",
    "url = \"http://146.83.216.166:5001/geolocalize\"\n",
    "# Realiza una solicitud POST a la API con la lista de documentos\n",
    "async def enviar_documentos():\n",
    "    # Ajustar el timeout en caso de demora, actualmente 300 segundos\n",
    "    async with httpx.AsyncClient(timeout=TIMEOUT) as client:\n",
    "        inicio = time.time()\n",
    "        response = await client.post(url, json=docs) # json=doc, es lo que se envia a la API\n",
    "\n",
    "    if response.status_code == 200: # Respuesta buena\n",
    "        tiempo_de_ejecucion(inicio)\n",
    "        data = response.json()\n",
    "        print(f\"Respuesta de la API:\")\n",
    "        print_resultados(data)\n",
    "    else:\n",
    "        tiempo_de_ejecucion(inicio)\n",
    "        print(f\"Error al llamar a la API. Código de estado: {response.status_code}\")\n",
    "        print(\"Respuesta de la API:\", response.text)"
   ]
  },
  {
   "cell_type": "code",
   "execution_count": 14,
   "metadata": {},
   "outputs": [
    {
     "name": "stdout",
     "output_type": "stream",
     "text": [
      "Tiempo de ejecución: 0.1662611961364746 segundos\n",
      "Error al llamar a la API. Código de estado: 406\n",
      "Respuesta de la API: {\"detail\":\"Se permite un máximo de 1 documento a procesar por petición\"}\n"
     ]
    }
   ],
   "source": [
    "# Función principal para ejecutar el código\n",
    "await enviar_documentos()"
   ]
  }
 ],
 "metadata": {
  "kernelspec": {
   "display_name": "taller",
   "language": "python",
   "name": "python3"
  },
  "language_info": {
   "codemirror_mode": {
    "name": "ipython",
    "version": 3
   },
   "file_extension": ".py",
   "mimetype": "text/x-python",
   "name": "python",
   "nbconvert_exporter": "python",
   "pygments_lexer": "ipython3",
   "version": "3.11.5"
  },
  "orig_nbformat": 4
 },
 "nbformat": 4,
 "nbformat_minor": 2
}
